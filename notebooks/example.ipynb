{
 "cells": [
  {
   "cell_type": "markdown",
   "metadata": {},
   "source": [
    "# Playlist Downloader\n",
    "\n",
    "This notebook demonstrates how to use the `PlaylistDownloader` class to download playlists from various services."
   ]
  },
  {
   "cell_type": "code",
   "execution_count": null,
   "metadata": {},
   "outputs": [],
   "source": [
    "import configparser\n",
    "from playlistdownloader.downloader import PlaylistDownloader"
   ]
  },
  {
   "cell_type": "code",
   "execution_count": null,
   "metadata": {},
   "outputs": [],
   "source": [
    "# Read the configuration file\n",
    "config = configparser.ConfigParser()\n",
    "config.read('spotipy_api_key.ini')\n",
    "\n",
    "# Spotipy Client ID\n",
    "SPOTIPYCLIENTID = config.get('SPOTIFY', 'spotipyclientid')\n",
    "SPOTIPYCLIENTSECRET = config.get('SPOTIFY', 'spotipyclientsecret')"
   ]
  },
  {
   "cell_type": "code",
   "execution_count": null,
   "metadata": {},
   "outputs": [],
   "source": [
    "# Initialize the PlaylistDownloader\n",
    "PLD = PlaylistDownloader(spotipyid=SPOTIPYCLIENTID, spotipysecret=SPOTIPYCLIENTSECRET)"
   ]
  },
  {
   "cell_type": "code",
   "execution_count": null,
   "metadata": {},
   "outputs": [],
   "source": [
    "# Load the list of lists\n",
    "input_file = 'path/to/your/input/file.txt'\n",
    "song_list_link = PLD.load_playlist(input_file)"
   ]
  },
  {
   "cell_type": "code",
   "execution_count": null,
   "metadata": {},
   "outputs": [],
   "source": [
    "# Download the playlist\n",
    "output_folder = 'path/to/your/output/folder'\n",
    "PLD.download_playlist(song_list_link, out=output_folder, compress=False)"
   ]
  },
  {
   "cell_type": "markdown",
   "metadata": {},
   "source": [
    "Now you have downloaded the playlist using the `PlaylistDownloader` in a Jupyter Notebook."
   ]
  }
 ],
 "metadata": {
  "kernelspec": {
   "display_name": "Python 3",
   "language": "python",
   "name": "python3"
  },
  "language_info": {
   "codemirror_mode": {
    "name": "ipython",
    "version": 3
   },
   "file_extension": ".py",
   "mimetype": "text/x-python",
   "name": "python",
   "nbconvert_exporter": "python",
   "pygments_lexer": "ipython3",
   "version": "3.8.5"
  }
 },
 "nbformat": 4,
 "nbformat_minor": 4
}
